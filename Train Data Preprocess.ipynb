{
 "cells": [
  {
   "cell_type": "markdown",
   "metadata": {},
   "source": [
    "### Predict the Discount Codes for a Purchasable Item\n",
    "\n",
    "A new e-commerce app is going live. To provide offers to different segments of customers they have tied up with different vendors and banking partners. Now they have a lots of data but don’t know how to provide the correct offers to the correct customers. You have to predict the columns Coupon Code and Payment Code.\n",
    "  \n",
    "#### Data\n",
    "Data Files  \n",
    "Train.csv: 8009 x 19 : contains training data  \n",
    "Test.csv: 6218 x 17 : contains test data  \n",
    "Submission format.csv: 6218 x 3 : expected results file containing predictions for test data  \n",
    "\n",
    "#### Data Description\n",
    "\n",
    "| Columns | Description |\n",
    "| :--- | :--- |\n",
    "| customer_id | unique Customer id |\n",
    "| seller_id | type of gift (clothes/perfumes/etc.) |\n",
    "| order_checkout_date | category to which the gift belongs under that gift type |\n",
    "| delivery_eta | Estimated delivery date |\n",
    "| shipping_charges | approximate shipping charges to deliver the product based on location |\n",
    "| product_category_code | The categorical code for the product |\n",
    "| X_1, X_2 | anonymized columns |\n",
    "| Product_quality_type | segment of the product based on its quality, for ex: in shoes there maybe, local brand there maybe Nike/Adidas |\n",
    "| Product_mass | weight of the product |\n",
    "| Product_length, product_height, product_breadth | dimensions of the product |\n",
    "| Payment_emi_years(max) | EMI tenure max. available if someone opts for |\n",
    "| Transaction_type | the type of transaction done for the order |\n",
    "| Order_status | the status of the order, E = executed successfully, A = Alternate product order later, N = Not Available and cancelled, R = Replacement ordered, H = Address not found and returned |\n",
    "| Coupon_code | The coupon code that should be recommended to the customer based on the product (Electronics (ELEC), Clothing (CLOTH), etc.) |\n",
    "| Payment_code | The payment code based on the mode of payment that the customer prefers to use mostly. (Google Play (GPAY), Card Payment (HSBC/HDFC) |\n",
    "\t\n",
    "#### Evaluation Criteria\n",
    "The evaluation metric will be the mean of the weighted avg. of the recall score generated for both the y-variables \n",
    "\n",
    "\\begin{equation}\n",
    "score1 = 100*recall\\_score(actual\\_values['payment\\_code'], predicted\\_values['payment\\_code'], average ='weighted') \\\\ score2 = 100*recall\\_score(actual\\_values['coupon\\_code'], predicted\\_values['coupon\\_code'], average ='weighted')\\\\ score = (score1+score2)/2\n",
    "\\end{equation}"
   ]
  },
  {
   "cell_type": "code",
   "execution_count": 1,
   "metadata": {},
   "outputs": [],
   "source": [
    "import pandas as pd\n",
    "import numpy as np\n",
    "import matplotlib.pyplot as plt\n",
    "from scipy import stats\n",
    "from sklearn import metrics\n",
    "from sklearn import preprocessing\n",
    "import category_encoders as ce\n",
    "import pickle\n",
    "import datetime"
   ]
  },
  {
   "cell_type": "code",
   "execution_count": 2,
   "metadata": {},
   "outputs": [
    {
     "data": {
      "text/html": [
       "<div>\n",
       "<style scoped>\n",
       "    .dataframe tbody tr th:only-of-type {\n",
       "        vertical-align: middle;\n",
       "    }\n",
       "\n",
       "    .dataframe tbody tr th {\n",
       "        vertical-align: top;\n",
       "    }\n",
       "\n",
       "    .dataframe thead th {\n",
       "        text-align: right;\n",
       "    }\n",
       "</style>\n",
       "<table border=\"1\" class=\"dataframe\">\n",
       "  <thead>\n",
       "    <tr style=\"text-align: right;\">\n",
       "      <th></th>\n",
       "      <th>seller_id</th>\n",
       "      <th>order_checkout_date</th>\n",
       "      <th>delivery_eta</th>\n",
       "      <th>shipping_charges</th>\n",
       "      <th>product_category_code</th>\n",
       "      <th>X_1</th>\n",
       "      <th>X_2</th>\n",
       "      <th>product_quality_type</th>\n",
       "      <th>product_mass</th>\n",
       "      <th>product_length</th>\n",
       "      <th>product_height</th>\n",
       "      <th>product_breadth</th>\n",
       "      <th>payment_emi_years(max)</th>\n",
       "      <th>price</th>\n",
       "      <th>order_status</th>\n",
       "      <th>transaction_type</th>\n",
       "      <th>coupon_code</th>\n",
       "      <th>payment_code</th>\n",
       "    </tr>\n",
       "    <tr>\n",
       "      <th>customer_id</th>\n",
       "      <th></th>\n",
       "      <th></th>\n",
       "      <th></th>\n",
       "      <th></th>\n",
       "      <th></th>\n",
       "      <th></th>\n",
       "      <th></th>\n",
       "      <th></th>\n",
       "      <th></th>\n",
       "      <th></th>\n",
       "      <th></th>\n",
       "      <th></th>\n",
       "      <th></th>\n",
       "      <th></th>\n",
       "      <th></th>\n",
       "      <th></th>\n",
       "      <th></th>\n",
       "      <th></th>\n",
       "    </tr>\n",
       "  </thead>\n",
       "  <tbody>\n",
       "    <tr>\n",
       "      <th>0a29abf475fb8039d2775913d6f0b6f0</th>\n",
       "      <td>48436dade18ac8b2bce089ec2a041202</td>\n",
       "      <td>2017-08-05 16:59:05</td>\n",
       "      <td>2017-09-06 00:00:00</td>\n",
       "      <td>18.12</td>\n",
       "      <td>27.0</td>\n",
       "      <td>58.0</td>\n",
       "      <td>598.0</td>\n",
       "      <td>D</td>\n",
       "      <td>650</td>\n",
       "      <td>28</td>\n",
       "      <td>9</td>\n",
       "      <td>14</td>\n",
       "      <td>1.0</td>\n",
       "      <td>153.75</td>\n",
       "      <td>E</td>\n",
       "      <td>1</td>\n",
       "      <td>CLOTH20</td>\n",
       "      <td>GPAY20</td>\n",
       "    </tr>\n",
       "    <tr>\n",
       "      <th>903ac1be571f2dc655f9083ffc936ce6</th>\n",
       "      <td>5b51032eddd242adc84c38acab88f23d</td>\n",
       "      <td>2017-10-30 15:35:32</td>\n",
       "      <td>2017-11-24 00:00:00</td>\n",
       "      <td>20.08</td>\n",
       "      <td>55.0</td>\n",
       "      <td>59.0</td>\n",
       "      <td>695.0</td>\n",
       "      <td>B</td>\n",
       "      <td>3050</td>\n",
       "      <td>33</td>\n",
       "      <td>13</td>\n",
       "      <td>33</td>\n",
       "      <td>1.0</td>\n",
       "      <td>388.17</td>\n",
       "      <td>E</td>\n",
       "      <td>3</td>\n",
       "      <td>CLOTH20</td>\n",
       "      <td>CITI10</td>\n",
       "    </tr>\n",
       "    <tr>\n",
       "      <th>bfadadd0d97f4c52f859c1c4d809edf9</th>\n",
       "      <td>4a3ca9315b744ce9f8e9374361493884</td>\n",
       "      <td>2017-11-04 12:03:25</td>\n",
       "      <td>2017-11-30 00:00:00</td>\n",
       "      <td>2.29</td>\n",
       "      <td>14.0</td>\n",
       "      <td>54.0</td>\n",
       "      <td>245.0</td>\n",
       "      <td>A</td>\n",
       "      <td>1383</td>\n",
       "      <td>50</td>\n",
       "      <td>10</td>\n",
       "      <td>40</td>\n",
       "      <td>1.0</td>\n",
       "      <td>216.72</td>\n",
       "      <td>E</td>\n",
       "      <td>1</td>\n",
       "      <td>CLOTH20</td>\n",
       "      <td>GPAY20</td>\n",
       "    </tr>\n",
       "    <tr>\n",
       "      <th>6c9e6937792cc04d9bb23451e0ff9f48</th>\n",
       "      <td>4a3ca9315b744ce9f8e9374361493884</td>\n",
       "      <td>2017-06-15 11:46:47</td>\n",
       "      <td>2017-07-10 00:00:00</td>\n",
       "      <td>1.86</td>\n",
       "      <td>14.0</td>\n",
       "      <td>54.0</td>\n",
       "      <td>245.0</td>\n",
       "      <td>A</td>\n",
       "      <td>1383</td>\n",
       "      <td>50</td>\n",
       "      <td>10</td>\n",
       "      <td>40</td>\n",
       "      <td>1.0</td>\n",
       "      <td>228.95</td>\n",
       "      <td>E</td>\n",
       "      <td>1</td>\n",
       "      <td>CLOTH15</td>\n",
       "      <td>CITI10</td>\n",
       "    </tr>\n",
       "    <tr>\n",
       "      <th>906e77e04c502baf17ad58162217da39</th>\n",
       "      <td>4a3ca9315b744ce9f8e9374361493884</td>\n",
       "      <td>2018-01-03 09:14:25</td>\n",
       "      <td>2018-01-31 00:00:00</td>\n",
       "      <td>15.57</td>\n",
       "      <td>14.0</td>\n",
       "      <td>54.0</td>\n",
       "      <td>245.0</td>\n",
       "      <td>A</td>\n",
       "      <td>1383</td>\n",
       "      <td>50</td>\n",
       "      <td>10</td>\n",
       "      <td>40</td>\n",
       "      <td>1.0</td>\n",
       "      <td>243.51</td>\n",
       "      <td>E</td>\n",
       "      <td>2</td>\n",
       "      <td>CLOTH15</td>\n",
       "      <td>CITI10</td>\n",
       "    </tr>\n",
       "  </tbody>\n",
       "</table>\n",
       "</div>"
      ],
      "text/plain": [
       "                                                         seller_id  \\\n",
       "customer_id                                                          \n",
       "0a29abf475fb8039d2775913d6f0b6f0  48436dade18ac8b2bce089ec2a041202   \n",
       "903ac1be571f2dc655f9083ffc936ce6  5b51032eddd242adc84c38acab88f23d   \n",
       "bfadadd0d97f4c52f859c1c4d809edf9  4a3ca9315b744ce9f8e9374361493884   \n",
       "6c9e6937792cc04d9bb23451e0ff9f48  4a3ca9315b744ce9f8e9374361493884   \n",
       "906e77e04c502baf17ad58162217da39  4a3ca9315b744ce9f8e9374361493884   \n",
       "\n",
       "                                  order_checkout_date         delivery_eta  \\\n",
       "customer_id                                                                  \n",
       "0a29abf475fb8039d2775913d6f0b6f0  2017-08-05 16:59:05  2017-09-06 00:00:00   \n",
       "903ac1be571f2dc655f9083ffc936ce6  2017-10-30 15:35:32  2017-11-24 00:00:00   \n",
       "bfadadd0d97f4c52f859c1c4d809edf9  2017-11-04 12:03:25  2017-11-30 00:00:00   \n",
       "6c9e6937792cc04d9bb23451e0ff9f48  2017-06-15 11:46:47  2017-07-10 00:00:00   \n",
       "906e77e04c502baf17ad58162217da39  2018-01-03 09:14:25  2018-01-31 00:00:00   \n",
       "\n",
       "                                  shipping_charges  product_category_code  \\\n",
       "customer_id                                                                 \n",
       "0a29abf475fb8039d2775913d6f0b6f0             18.12                   27.0   \n",
       "903ac1be571f2dc655f9083ffc936ce6             20.08                   55.0   \n",
       "bfadadd0d97f4c52f859c1c4d809edf9              2.29                   14.0   \n",
       "6c9e6937792cc04d9bb23451e0ff9f48              1.86                   14.0   \n",
       "906e77e04c502baf17ad58162217da39             15.57                   14.0   \n",
       "\n",
       "                                   X_1    X_2 product_quality_type  \\\n",
       "customer_id                                                          \n",
       "0a29abf475fb8039d2775913d6f0b6f0  58.0  598.0                    D   \n",
       "903ac1be571f2dc655f9083ffc936ce6  59.0  695.0                    B   \n",
       "bfadadd0d97f4c52f859c1c4d809edf9  54.0  245.0                    A   \n",
       "6c9e6937792cc04d9bb23451e0ff9f48  54.0  245.0                    A   \n",
       "906e77e04c502baf17ad58162217da39  54.0  245.0                    A   \n",
       "\n",
       "                                  product_mass  product_length  \\\n",
       "customer_id                                                      \n",
       "0a29abf475fb8039d2775913d6f0b6f0           650              28   \n",
       "903ac1be571f2dc655f9083ffc936ce6          3050              33   \n",
       "bfadadd0d97f4c52f859c1c4d809edf9          1383              50   \n",
       "6c9e6937792cc04d9bb23451e0ff9f48          1383              50   \n",
       "906e77e04c502baf17ad58162217da39          1383              50   \n",
       "\n",
       "                                  product_height  product_breadth  \\\n",
       "customer_id                                                         \n",
       "0a29abf475fb8039d2775913d6f0b6f0               9               14   \n",
       "903ac1be571f2dc655f9083ffc936ce6              13               33   \n",
       "bfadadd0d97f4c52f859c1c4d809edf9              10               40   \n",
       "6c9e6937792cc04d9bb23451e0ff9f48              10               40   \n",
       "906e77e04c502baf17ad58162217da39              10               40   \n",
       "\n",
       "                                  payment_emi_years(max)   price order_status  \\\n",
       "customer_id                                                                     \n",
       "0a29abf475fb8039d2775913d6f0b6f0                     1.0  153.75            E   \n",
       "903ac1be571f2dc655f9083ffc936ce6                     1.0  388.17            E   \n",
       "bfadadd0d97f4c52f859c1c4d809edf9                     1.0  216.72            E   \n",
       "6c9e6937792cc04d9bb23451e0ff9f48                     1.0  228.95            E   \n",
       "906e77e04c502baf17ad58162217da39                     1.0  243.51            E   \n",
       "\n",
       "                                  transaction_type coupon_code payment_code  \n",
       "customer_id                                                                  \n",
       "0a29abf475fb8039d2775913d6f0b6f0                 1     CLOTH20       GPAY20  \n",
       "903ac1be571f2dc655f9083ffc936ce6                 3     CLOTH20       CITI10  \n",
       "bfadadd0d97f4c52f859c1c4d809edf9                 1     CLOTH20       GPAY20  \n",
       "6c9e6937792cc04d9bb23451e0ff9f48                 1     CLOTH15       CITI10  \n",
       "906e77e04c502baf17ad58162217da39                 2     CLOTH15       CITI10  "
      ]
     },
     "execution_count": 2,
     "metadata": {},
     "output_type": "execute_result"
    }
   ],
   "source": [
    "train = pd.read_csv('Data\\Train.csv', index_col=0)\n",
    "train.head()"
   ]
  },
  {
   "cell_type": "markdown",
   "metadata": {},
   "source": [
    "#### Categorical Columns Analysis"
   ]
  },
  {
   "cell_type": "code",
   "execution_count": 3,
   "metadata": {
    "scrolled": false
   },
   "outputs": [
    {
     "name": "stdout",
     "output_type": "stream",
     "text": [
      "Data Size: 8009\n",
      "Categorical Columns Number of Unique Values\n",
      "\n",
      "Sellers: 504 \n",
      "\n",
      "product_category_code: 75\n"
     ]
    },
    {
     "data": {
      "image/png": "[encoded data removed]",
      "text/plain": [
       "<Figure size 432x288 with 1 Axes>"
      ]
     },
     "metadata": {
      "needs_background": "light"
     },
     "output_type": "display_data"
    },
    {
     "name": "stdout",
     "output_type": "stream",
     "text": [
      "product_quality_type: 12\n"
     ]
    },
    {
     "data": {
      "image/png": "[encoded data removed]",
      "text/plain": [
       "<Figure size 432x288 with 1 Axes>"
      ]
     },
     "metadata": {
      "needs_background": "light"
     },
     "output_type": "display_data"
    },
    {
     "name": "stdout",
     "output_type": "stream",
     "text": [
      "order_status: 5\n"
     ]
    },
    {
     "data": {
      "image/png": "[encoded data removed]",
      "text/plain": [
       "<Figure size 432x288 with 1 Axes>"
      ]
     },
     "metadata": {
      "needs_background": "light"
     },
     "output_type": "display_data"
    },
    {
     "name": "stdout",
     "output_type": "stream",
     "text": [
      "transaction_type: 15\n"
     ]
    },
    {
     "data": {
      "image/png": "[encoded data removed]",
      "text/plain": [
       "<Figure size 432x288 with 1 Axes>"
      ]
     },
     "metadata": {
      "needs_background": "light"
     },
     "output_type": "display_data"
    }
   ],
   "source": [
    "print('Data Size:', len(train))\n",
    "print('Categorical Columns Number of Unique Values\\n')\n",
    "print('Sellers:', len(np.unique(train['seller_id'])), '\\n')\n",
    "\n",
    "print('product_category_code:', len(np.unique(train['product_category_code'])))\n",
    "plt.bar(train['product_category_code'].value_counts().keys(), train['product_category_code'].value_counts().values)\n",
    "plt.show()\n",
    "\n",
    "print('product_quality_type:', len(train['product_quality_type'].value_counts()))\n",
    "plt.bar(train['product_quality_type'].value_counts().keys(), train['product_quality_type'].value_counts().values)\n",
    "plt.show()\n",
    "\n",
    "print('order_status:', len(train['order_status'].value_counts()))\n",
    "plt.bar(train['order_status'].value_counts().keys(), train['order_status'].value_counts().values)\n",
    "plt.show()\n",
    "\n",
    "print('transaction_type:', len(np.unique(train['transaction_type'])))\n",
    "plt.bar(train['transaction_type'].value_counts().keys(), train['transaction_type'].value_counts().values)\n",
    "plt.show()"
   ]
  },
  {
   "cell_type": "markdown",
   "metadata": {},
   "source": [
    "#### X_1 and X_2 Analysis"
   ]
  },
  {
   "cell_type": "code",
   "execution_count": 4,
   "metadata": {},
   "outputs": [
    {
     "name": "stdout",
     "output_type": "stream",
     "text": [
      "X_1 Uniques: 188\n",
      "X_2 Uniques: 863\n"
     ]
    }
   ],
   "source": [
    "print('X_1 Uniques:', len(np.unique(train['X_1'])))\n",
    "# plt.plot(train['X_1'])\n",
    "# plt.show()\n",
    "# plt.hist(train['X_1'])\n",
    "# plt.show()\n",
    "\n",
    "print('X_2 Uniques:', len(np.unique(train['X_2'])))\n",
    "# plt.plot(train['X_2'])\n",
    "# plt.show()\n",
    "# plt.hist(train['X_2'])\n",
    "# plt.show()"
   ]
  },
  {
   "cell_type": "markdown",
   "metadata": {},
   "source": [
    "- Too many values to treat as categorical\n",
    "- Takes only integer values\n",
    "- Most probably counts of some type\n",
    "- Treat as numeric"
   ]
  },
  {
   "cell_type": "markdown",
   "metadata": {},
   "source": [
    "#### Handling NaN "
   ]
  },
  {
   "cell_type": "code",
   "execution_count": 5,
   "metadata": {},
   "outputs": [
    {
     "name": "stdout",
     "output_type": "stream",
     "text": [
      "Number of rows with atleast 1 NaN: 199\n",
      "Percentage of rows with atleast 1 NaN: 2.48\n",
      "Columns with NaNs:\n",
      " ['shipping_charges', 'product_category_code', 'X_1', 'X_2', 'product_quality_type', 'payment_emi_years(max)', 'price']\n",
      "Number of NaNs\n",
      "shipping_charges: 14\n",
      "product_category_code: 23\n",
      "X_1: 138\n",
      "X_2: 138\n",
      "product_quality_type: 138\n",
      "payment_emi_years(max): 15\n",
      "price: 10\n",
      "Common NaNs in X_1, X_2 and Product Quality: 138\n",
      "Common NaNs in others: 0\n"
     ]
    }
   ],
   "source": [
    "print('Number of rows with atleast 1 NaN:', sum(train.isna().any(axis=1)))\n",
    "print('Percentage of rows with atleast 1 NaN:', round(sum(train.isna().any(axis=1))/len(train)*100, 2))\n",
    "print('Columns with NaNs:\\n', list(train.columns[train.isna().any(axis=0)]))\n",
    "print('Number of NaNs')\n",
    "print('shipping_charges:', sum(train['shipping_charges'].isna()))\n",
    "print('product_category_code:', sum(train['product_category_code'].isna()))\n",
    "print('X_1:', sum(train['X_1'].isna()))\n",
    "print('X_2:', sum(train['X_2'].isna()))\n",
    "print('product_quality_type:', sum(train['product_quality_type'].isna()))\n",
    "print('payment_emi_years(max):', sum(train['payment_emi_years(max)'].isna()))\n",
    "print('price:', sum(train['price'].isna()))\n",
    "print('Common NaNs in X_1, X_2 and Product Quality:', sum(train[['X_1', 'X_2', 'product_quality_type']].isna().any(axis=1)))\n",
    "print('Common NaNs in others:', sum(train[['X_1', 'X_2', 'product_quality_type', 'price', 'product_category_code']].isna().all(axis=1)))"
   ]
  },
  {
   "cell_type": "code",
   "execution_count": 6,
   "metadata": {},
   "outputs": [],
   "source": [
    "train[['shipping_charges', 'payment_emi_years(max)']] = train[['shipping_charges', 'payment_emi_years(max)']].fillna(0)\n",
    "train.dropna(inplace=True)"
   ]
  },
  {
   "cell_type": "markdown",
   "metadata": {},
   "source": [
    "#### Output Column 1"
   ]
  },
  {
   "cell_type": "code",
   "execution_count": 7,
   "metadata": {},
   "outputs": [
    {
     "name": "stdout",
     "output_type": "stream",
     "text": [
      "coupon_code: 7\n"
     ]
    },
    {
     "data": {
      "image/png": "[encoded data removed]",
      "text/plain": [
       "<Figure size 432x288 with 1 Axes>"
      ]
     },
     "metadata": {
      "needs_background": "light"
     },
     "output_type": "display_data"
    }
   ],
   "source": [
    "print('coupon_code:', len(train['coupon_code'].value_counts()))\n",
    "plt.bar(train['coupon_code'].value_counts().keys(), train['coupon_code'].value_counts().values)\n",
    "plt.show()"
   ]
  },
  {
   "cell_type": "code",
   "execution_count": 8,
   "metadata": {},
   "outputs": [
    {
     "name": "stdout",
     "output_type": "stream",
     "text": [
      "payment_code: 5\n"
     ]
    },
    {
     "data": {
      "image/png": "[encoded data removed]",
      "text/plain": [
       "<Figure size 432x288 with 1 Axes>"
      ]
     },
     "metadata": {
      "needs_background": "light"
     },
     "output_type": "display_data"
    }
   ],
   "source": [
    "print('payment_code:', len(train['payment_code'].value_counts()))\n",
    "plt.bar(train['payment_code'].value_counts().keys(), train['payment_code'].value_counts().values)\n",
    "plt.show()"
   ]
  },
  {
   "cell_type": "code",
   "execution_count": 9,
   "metadata": {},
   "outputs": [],
   "source": [
    "def test_chi2(col1, col2, showTable=False):\n",
    "    print(col1, 'vs', col2)\n",
    "    print('------------------------------------', end='')\n",
    "    data_crosstab = pd.crosstab(train[col1], train[col2])\n",
    "    if showTable:\n",
    "        print(data_crosstab)\n",
    "    chi2, p, dof, ex = stats.chi2_contingency(data_crosstab)\n",
    "    if p<0.01:\n",
    "        print('\\nNot independent')\n",
    "    else:\n",
    "        print('\\nMight be independent')\n",
    "    I = metrics.mutual_info_score(train[col1], train[col2])\n",
    "    H1 = stats.entropy(train[col1].value_counts())\n",
    "    H2 = stats.entropy(train[col2].value_counts())\n",
    "    print('Scaled Mutual Information:', round(I/(H1+H2), 4))"
   ]
  },
  {
   "cell_type": "code",
   "execution_count": 10,
   "metadata": {},
   "outputs": [
    {
     "name": "stdout",
     "output_type": "stream",
     "text": [
      "payment_code vs coupon_code\n",
      "------------------------------------coupon_code   CLOTH15  CLOTH20  COSMETICS25  ELEC10  ELEC15  FURN20  KIDS15\n",
      "payment_code                                                               \n",
      "APAY15             10        7            0      79      86       2       0\n",
      "CITI10            431      375            3    1558    3420      36      23\n",
      "GPAY20             42       42            1     223     511       5       3\n",
      "HDFC20             13       10            0      40      73       1       0\n",
      "PAYTM25            68       39            1     267     463       5       2\n",
      "\n",
      "Not independent\n",
      "Scaled Mutual Information: 0.0016\n"
     ]
    }
   ],
   "source": [
    "test_chi2('payment_code', 'coupon_code', True)"
   ]
  },
  {
   "cell_type": "code",
   "execution_count": 11,
   "metadata": {
    "scrolled": false
   },
   "outputs": [
    {
     "name": "stdout",
     "output_type": "stream",
     "text": [
      "product_category_code vs coupon_code\n",
      "------------------------------------\n",
      "Not independent\n",
      "Scaled Mutual Information: 0.0178\n",
      " \n",
      "product_quality_type vs coupon_code\n",
      "------------------------------------\n",
      "Not independent\n",
      "Scaled Mutual Information: 0.0059\n",
      " \n",
      "order_status vs coupon_code\n",
      "------------------------------------\n",
      "Might be independent\n",
      "Scaled Mutual Information: 0.0011\n",
      " \n",
      "transaction_type vs coupon_code\n",
      "------------------------------------\n",
      "Not independent\n",
      "Scaled Mutual Information: 0.0142\n",
      " \n"
     ]
    }
   ],
   "source": [
    "for col in ['product_category_code', 'product_quality_type', 'order_status', 'transaction_type']:\n",
    "    test_chi2(col, 'coupon_code')\n",
    "    print(' ')"
   ]
  },
  {
   "cell_type": "code",
   "execution_count": 12,
   "metadata": {},
   "outputs": [
    {
     "name": "stdout",
     "output_type": "stream",
     "text": [
      "product_category_code vs payment_code\n",
      "------------------------------------\n",
      "Not independent\n",
      "Scaled Mutual Information: 0.0048\n",
      " \n",
      "product_quality_type vs payment_code\n",
      "------------------------------------\n",
      "Might be independent\n",
      "Scaled Mutual Information: 0.0011\n",
      " \n",
      "order_status vs payment_code\n",
      "------------------------------------\n",
      "Might be independent\n",
      "Scaled Mutual Information: 0.0012\n",
      " \n",
      "transaction_type vs payment_code\n",
      "------------------------------------\n",
      "Not independent\n",
      "Scaled Mutual Information: 0.0852\n",
      " \n"
     ]
    }
   ],
   "source": [
    "for col in ['product_category_code', 'product_quality_type', 'order_status', 'transaction_type']:\n",
    "    test_chi2(col, 'payment_code')\n",
    "    print(' ')"
   ]
  },
  {
   "cell_type": "markdown",
   "metadata": {},
   "source": [
    "### Feature Engineering"
   ]
  },
  {
   "cell_type": "markdown",
   "metadata": {},
   "source": [
    "#### Encondings\n",
    "- High Dimensionality\n",
    "  - One Hot\n",
    "- Loss of Info\n",
    "  - Binary Encoding\n",
    "  - Hashing\n",
    "- Overfitting\n",
    "  - Frequency Encoding\n",
    "  - Target Encoding\n",
    "  - Weight of Evidence (Adjusted if needed)\n",
    "  - Probability Ratio Encoding\n",
    "  - James Stein\n",
    "  - M-Estimator"
   ]
  },
  {
   "cell_type": "code",
   "execution_count": 13,
   "metadata": {},
   "outputs": [],
   "source": [
    "leCoupon = preprocessing.LabelEncoder()\n",
    "lePayment = preprocessing.LabelEncoder()\n",
    "\n",
    "train['coupon_code_enc'] = leCoupon.fit_transform(train['coupon_code'])\n",
    "train['payment_code_enc'] = lePayment.fit_transform(train['payment_code'])\n",
    "\n",
    "couponNames = train['coupon_code'].value_counts().keys()\n",
    "couponKeys = leCoupon.transform(couponNames)\n",
    "couponDict = dict(zip(couponKeys, couponNames))\n",
    "\n",
    "paymentNames = train['payment_code'].value_counts().keys()\n",
    "paymentKeys = lePayment.transform(paymentNames)\n",
    "paymentDict = dict(zip(paymentKeys, paymentNames))\n",
    "\n",
    "outputEnc = preprocessing.OneHotEncoder()\n",
    "outCols = outputEnc.fit_transform(train[['coupon_code_enc', 'payment_code_enc']]).toarray()\n",
    "\n",
    "for i in range(outCols.shape[1]):\n",
    "    col = outputEnc.get_feature_names()[i] \n",
    "    if col[1] == '0':\n",
    "        train['Coupon:' + couponDict[int(col[3])]] = outCols[:, i]\n",
    "    else:\n",
    "        train['Payment:' + paymentDict[int(col[3])]] = outCols[:, i]\n",
    "\n",
    "train.drop(['coupon_code', 'coupon_code_enc', 'payment_code', 'payment_code_enc'], axis=1, inplace=True)\n",
    "outColNames = [col for col in train.columns if ':' in col]"
   ]
  },
  {
   "cell_type": "code",
   "execution_count": 14,
   "metadata": {},
   "outputs": [],
   "source": [
    "reference_date = datetime.datetime.now()\n",
    "\n",
    "train['delivery_eta'] = train['delivery_eta'].apply(lambda x:datetime.datetime.strptime(x, '%Y-%m-%d %H:%M:%S'))\n",
    "train['order_checkout_date'] = train['order_checkout_date'].apply(lambda x:datetime.datetime.strptime(x, '%Y-%m-%d %H:%M:%S'))\n",
    "train['wait-time'] = (train['delivery_eta'] - train['order_checkout_date']).apply(lambda x: x.total_seconds()/3600)\n",
    "train['delivery_eta'] = train['delivery_eta'].apply(lambda x:(reference_date-x).total_seconds()/3600)\n",
    "train['order_checkout_date'] = train['order_checkout_date'].apply(lambda x:(reference_date-x).total_seconds()/3600)"
   ]
  },
  {
   "cell_type": "code",
   "execution_count": 15,
   "metadata": {},
   "outputs": [
    {
     "data": {
      "text/html": [
       "<div>\n",
       "<style scoped>\n",
       "    .dataframe tbody tr th:only-of-type {\n",
       "        vertical-align: middle;\n",
       "    }\n",
       "\n",
       "    .dataframe tbody tr th {\n",
       "        vertical-align: top;\n",
       "    }\n",
       "\n",
       "    .dataframe thead th {\n",
       "        text-align: right;\n",
       "    }\n",
       "</style>\n",
       "<table border=\"1\" class=\"dataframe\">\n",
       "  <thead>\n",
       "    <tr style=\"text-align: right;\">\n",
       "      <th></th>\n",
       "      <th>seller_id</th>\n",
       "      <th>order_checkout_date</th>\n",
       "      <th>delivery_eta</th>\n",
       "      <th>shipping_charges</th>\n",
       "      <th>product_category_code</th>\n",
       "      <th>X_1</th>\n",
       "      <th>X_2</th>\n",
       "      <th>product_quality_type</th>\n",
       "      <th>product_mass</th>\n",
       "      <th>product_length</th>\n",
       "      <th>...</th>\n",
       "      <th>Payment:APAY15</th>\n",
       "      <th>Payment:CITI10</th>\n",
       "      <th>Payment:GPAY20</th>\n",
       "      <th>Payment:HDFC20</th>\n",
       "      <th>Payment:PAYTM25</th>\n",
       "      <th>wait-time</th>\n",
       "      <th>volume</th>\n",
       "      <th>product_density</th>\n",
       "      <th>price_per_g</th>\n",
       "      <th>price_per_vol</th>\n",
       "    </tr>\n",
       "    <tr>\n",
       "      <th>customer_id</th>\n",
       "      <th></th>\n",
       "      <th></th>\n",
       "      <th></th>\n",
       "      <th></th>\n",
       "      <th></th>\n",
       "      <th></th>\n",
       "      <th></th>\n",
       "      <th></th>\n",
       "      <th></th>\n",
       "      <th></th>\n",
       "      <th></th>\n",
       "      <th></th>\n",
       "      <th></th>\n",
       "      <th></th>\n",
       "      <th></th>\n",
       "      <th></th>\n",
       "      <th></th>\n",
       "      <th></th>\n",
       "      <th></th>\n",
       "      <th></th>\n",
       "      <th></th>\n",
       "    </tr>\n",
       "  </thead>\n",
       "  <tbody>\n",
       "    <tr>\n",
       "      <th>0a29abf475fb8039d2775913d6f0b6f0</th>\n",
       "      <td>48436dade18ac8b2bce089ec2a041202</td>\n",
       "      <td>28371.215326</td>\n",
       "      <td>27620.200049</td>\n",
       "      <td>18.12</td>\n",
       "      <td>27.0</td>\n",
       "      <td>58.0</td>\n",
       "      <td>598.0</td>\n",
       "      <td>9</td>\n",
       "      <td>650</td>\n",
       "      <td>28</td>\n",
       "      <td>...</td>\n",
       "      <td>0.0</td>\n",
       "      <td>0.0</td>\n",
       "      <td>1.0</td>\n",
       "      <td>0.0</td>\n",
       "      <td>0.0</td>\n",
       "      <td>751.015278</td>\n",
       "      <td>3528</td>\n",
       "      <td>0.184240</td>\n",
       "      <td>0.236538</td>\n",
       "      <td>0.043580</td>\n",
       "    </tr>\n",
       "    <tr>\n",
       "      <th>903ac1be571f2dc655f9083ffc936ce6</th>\n",
       "      <td>5b51032eddd242adc84c38acab88f23d</td>\n",
       "      <td>26308.607826</td>\n",
       "      <td>25724.200049</td>\n",
       "      <td>20.08</td>\n",
       "      <td>55.0</td>\n",
       "      <td>59.0</td>\n",
       "      <td>695.0</td>\n",
       "      <td>11</td>\n",
       "      <td>3050</td>\n",
       "      <td>33</td>\n",
       "      <td>...</td>\n",
       "      <td>0.0</td>\n",
       "      <td>1.0</td>\n",
       "      <td>0.0</td>\n",
       "      <td>0.0</td>\n",
       "      <td>0.0</td>\n",
       "      <td>584.407778</td>\n",
       "      <td>14157</td>\n",
       "      <td>0.215441</td>\n",
       "      <td>0.127269</td>\n",
       "      <td>0.027419</td>\n",
       "    </tr>\n",
       "    <tr>\n",
       "      <th>bfadadd0d97f4c52f859c1c4d809edf9</th>\n",
       "      <td>4a3ca9315b744ce9f8e9374361493884</td>\n",
       "      <td>26192.143104</td>\n",
       "      <td>25580.200049</td>\n",
       "      <td>2.29</td>\n",
       "      <td>14.0</td>\n",
       "      <td>54.0</td>\n",
       "      <td>245.0</td>\n",
       "      <td>12</td>\n",
       "      <td>1383</td>\n",
       "      <td>50</td>\n",
       "      <td>...</td>\n",
       "      <td>0.0</td>\n",
       "      <td>0.0</td>\n",
       "      <td>1.0</td>\n",
       "      <td>0.0</td>\n",
       "      <td>0.0</td>\n",
       "      <td>611.943056</td>\n",
       "      <td>20000</td>\n",
       "      <td>0.069150</td>\n",
       "      <td>0.156703</td>\n",
       "      <td>0.010836</td>\n",
       "    </tr>\n",
       "    <tr>\n",
       "      <th>6c9e6937792cc04d9bb23451e0ff9f48</th>\n",
       "      <td>4a3ca9315b744ce9f8e9374361493884</td>\n",
       "      <td>29600.420326</td>\n",
       "      <td>29012.200049</td>\n",
       "      <td>1.86</td>\n",
       "      <td>14.0</td>\n",
       "      <td>54.0</td>\n",
       "      <td>245.0</td>\n",
       "      <td>12</td>\n",
       "      <td>1383</td>\n",
       "      <td>50</td>\n",
       "      <td>...</td>\n",
       "      <td>0.0</td>\n",
       "      <td>1.0</td>\n",
       "      <td>0.0</td>\n",
       "      <td>0.0</td>\n",
       "      <td>0.0</td>\n",
       "      <td>588.220278</td>\n",
       "      <td>20000</td>\n",
       "      <td>0.069150</td>\n",
       "      <td>0.165546</td>\n",
       "      <td>0.011447</td>\n",
       "    </tr>\n",
       "    <tr>\n",
       "      <th>906e77e04c502baf17ad58162217da39</th>\n",
       "      <td>4a3ca9315b744ce9f8e9374361493884</td>\n",
       "      <td>24754.959771</td>\n",
       "      <td>24092.200049</td>\n",
       "      <td>15.57</td>\n",
       "      <td>14.0</td>\n",
       "      <td>54.0</td>\n",
       "      <td>245.0</td>\n",
       "      <td>12</td>\n",
       "      <td>1383</td>\n",
       "      <td>50</td>\n",
       "      <td>...</td>\n",
       "      <td>0.0</td>\n",
       "      <td>1.0</td>\n",
       "      <td>0.0</td>\n",
       "      <td>0.0</td>\n",
       "      <td>0.0</td>\n",
       "      <td>662.759722</td>\n",
       "      <td>20000</td>\n",
       "      <td>0.069150</td>\n",
       "      <td>0.176074</td>\n",
       "      <td>0.012175</td>\n",
       "    </tr>\n",
       "  </tbody>\n",
       "</table>\n",
       "<p>5 rows × 33 columns</p>\n",
       "</div>"
      ],
      "text/plain": [
       "                                                         seller_id  \\\n",
       "customer_id                                                          \n",
       "0a29abf475fb8039d2775913d6f0b6f0  48436dade18ac8b2bce089ec2a041202   \n",
       "903ac1be571f2dc655f9083ffc936ce6  5b51032eddd242adc84c38acab88f23d   \n",
       "bfadadd0d97f4c52f859c1c4d809edf9  4a3ca9315b744ce9f8e9374361493884   \n",
       "6c9e6937792cc04d9bb23451e0ff9f48  4a3ca9315b744ce9f8e9374361493884   \n",
       "906e77e04c502baf17ad58162217da39  4a3ca9315b744ce9f8e9374361493884   \n",
       "\n",
       "                                  order_checkout_date  delivery_eta  \\\n",
       "customer_id                                                           \n",
       "0a29abf475fb8039d2775913d6f0b6f0         28371.215326  27620.200049   \n",
       "903ac1be571f2dc655f9083ffc936ce6         26308.607826  25724.200049   \n",
       "bfadadd0d97f4c52f859c1c4d809edf9         26192.143104  25580.200049   \n",
       "6c9e6937792cc04d9bb23451e0ff9f48         29600.420326  29012.200049   \n",
       "906e77e04c502baf17ad58162217da39         24754.959771  24092.200049   \n",
       "\n",
       "                                  shipping_charges  product_category_code  \\\n",
       "customer_id                                                                 \n",
       "0a29abf475fb8039d2775913d6f0b6f0             18.12                   27.0   \n",
       "903ac1be571f2dc655f9083ffc936ce6             20.08                   55.0   \n",
       "bfadadd0d97f4c52f859c1c4d809edf9              2.29                   14.0   \n",
       "6c9e6937792cc04d9bb23451e0ff9f48              1.86                   14.0   \n",
       "906e77e04c502baf17ad58162217da39             15.57                   14.0   \n",
       "\n",
       "                                   X_1    X_2  product_quality_type  \\\n",
       "customer_id                                                           \n",
       "0a29abf475fb8039d2775913d6f0b6f0  58.0  598.0                     9   \n",
       "903ac1be571f2dc655f9083ffc936ce6  59.0  695.0                    11   \n",
       "bfadadd0d97f4c52f859c1c4d809edf9  54.0  245.0                    12   \n",
       "6c9e6937792cc04d9bb23451e0ff9f48  54.0  245.0                    12   \n",
       "906e77e04c502baf17ad58162217da39  54.0  245.0                    12   \n",
       "\n",
       "                                  product_mass  product_length  ...  \\\n",
       "customer_id                                                     ...   \n",
       "0a29abf475fb8039d2775913d6f0b6f0           650              28  ...   \n",
       "903ac1be571f2dc655f9083ffc936ce6          3050              33  ...   \n",
       "bfadadd0d97f4c52f859c1c4d809edf9          1383              50  ...   \n",
       "6c9e6937792cc04d9bb23451e0ff9f48          1383              50  ...   \n",
       "906e77e04c502baf17ad58162217da39          1383              50  ...   \n",
       "\n",
       "                                  Payment:APAY15  Payment:CITI10  \\\n",
       "customer_id                                                        \n",
       "0a29abf475fb8039d2775913d6f0b6f0             0.0             0.0   \n",
       "903ac1be571f2dc655f9083ffc936ce6             0.0             1.0   \n",
       "bfadadd0d97f4c52f859c1c4d809edf9             0.0             0.0   \n",
       "6c9e6937792cc04d9bb23451e0ff9f48             0.0             1.0   \n",
       "906e77e04c502baf17ad58162217da39             0.0             1.0   \n",
       "\n",
       "                                  Payment:GPAY20  Payment:HDFC20  \\\n",
       "customer_id                                                        \n",
       "0a29abf475fb8039d2775913d6f0b6f0             1.0             0.0   \n",
       "903ac1be571f2dc655f9083ffc936ce6             0.0             0.0   \n",
       "bfadadd0d97f4c52f859c1c4d809edf9             1.0             0.0   \n",
       "6c9e6937792cc04d9bb23451e0ff9f48             0.0             0.0   \n",
       "906e77e04c502baf17ad58162217da39             0.0             0.0   \n",
       "\n",
       "                                 Payment:PAYTM25   wait-time  volume  \\\n",
       "customer_id                                                            \n",
       "0a29abf475fb8039d2775913d6f0b6f0             0.0  751.015278    3528   \n",
       "903ac1be571f2dc655f9083ffc936ce6             0.0  584.407778   14157   \n",
       "bfadadd0d97f4c52f859c1c4d809edf9             0.0  611.943056   20000   \n",
       "6c9e6937792cc04d9bb23451e0ff9f48             0.0  588.220278   20000   \n",
       "906e77e04c502baf17ad58162217da39             0.0  662.759722   20000   \n",
       "\n",
       "                                  product_density  price_per_g  price_per_vol  \n",
       "customer_id                                                                    \n",
       "0a29abf475fb8039d2775913d6f0b6f0         0.184240     0.236538       0.043580  \n",
       "903ac1be571f2dc655f9083ffc936ce6         0.215441     0.127269       0.027419  \n",
       "bfadadd0d97f4c52f859c1c4d809edf9         0.069150     0.156703       0.010836  \n",
       "6c9e6937792cc04d9bb23451e0ff9f48         0.069150     0.165546       0.011447  \n",
       "906e77e04c502baf17ad58162217da39         0.069150     0.176074       0.012175  \n",
       "\n",
       "[5 rows x 33 columns]"
      ]
     },
     "execution_count": 15,
     "metadata": {},
     "output_type": "execute_result"
    }
   ],
   "source": [
    "train['volume'] = train['product_height']*train['product_length']*train['product_breadth']\n",
    "train['product_density'] = train['product_mass']/train['volume']\n",
    "train['price_per_g'] = train['price']/train['product_mass']\n",
    "train['price_per_vol'] = train['price']/train['volume']\n",
    "qualityEnc = preprocessing.LabelEncoder()\n",
    "train['product_quality_type'] = 12-qualityEnc.fit_transform(train['product_quality_type'])\n",
    "train.head()"
   ]
  },
  {
   "cell_type": "code",
   "execution_count": 16,
   "metadata": {},
   "outputs": [],
   "source": [
    "catCols = ['seller_id', 'product_category_code', 'order_status', 'transaction_type']\n",
    "data = train.copy()"
   ]
  },
  {
   "cell_type": "markdown",
   "metadata": {},
   "source": [
    "#### Frequency Encoding"
   ]
  },
  {
   "cell_type": "code",
   "execution_count": 17,
   "metadata": {},
   "outputs": [],
   "source": [
    "trainFreq = data.copy()"
   ]
  },
  {
   "cell_type": "code",
   "execution_count": 18,
   "metadata": {},
   "outputs": [],
   "source": [
    "def freqEnc(df, feature):\n",
    "    freq = df.groupby(feature).size()/len(df)\n",
    "    df[feature] = df[feature].map(freq)"
   ]
  },
  {
   "cell_type": "code",
   "execution_count": 19,
   "metadata": {},
   "outputs": [],
   "source": [
    "for catCol in catCols:\n",
    "    freqEnc(trainFreq, catCol)\n",
    "pickle.dump(trainFreq, open('Data\\\\trainFreq.sav', 'wb'))"
   ]
  },
  {
   "cell_type": "markdown",
   "metadata": {},
   "source": [
    "#### Target Encoding"
   ]
  },
  {
   "cell_type": "code",
   "execution_count": 20,
   "metadata": {},
   "outputs": [],
   "source": [
    "targEncs = {}\n",
    "trainTarg = data.copy()\n",
    "\n",
    "for outCol in outColNames:\n",
    "    targEnc = ce.target_encoder.TargetEncoder(cols=catCols)\n",
    "    targEnc.fit(trainTarg[catCols], trainTarg[outCol])\n",
    "    trainTarg[[col + ':' + outCol for col in catCols]] = targEnc.transform(trainTarg[catCols])\n",
    "    targEncs[outCol] = targEnc\n",
    "    \n",
    "trainTarg.drop(catCols, axis=1, inplace=True)\n",
    "pickle.dump(trainTarg, open('Data\\\\trainTarg.sav', 'wb'))"
   ]
  },
  {
   "cell_type": "markdown",
   "metadata": {},
   "source": [
    "#### Weight of Evidence"
   ]
  },
  {
   "cell_type": "code",
   "execution_count": 21,
   "metadata": {},
   "outputs": [],
   "source": [
    "woeEncs = {}\n",
    "trainWoe = data.copy()\n",
    "\n",
    "for outCol in outColNames:\n",
    "    woeEnc = ce.woe.WOEEncoder(cols=catCols)\n",
    "    woeEnc.fit(trainWoe[catCols], trainWoe[outCol])\n",
    "    trainWoe[[col + ':' + outCol for col in catCols]] = woeEnc.transform(trainWoe[catCols])\n",
    "    woeEncs[outCol] = woeEnc\n",
    "    \n",
    "trainWoe.drop(catCols, axis=1, inplace=True)\n",
    "pickle.dump(trainWoe, open('Data\\\\trainWoe.sav', 'wb'))"
   ]
  },
  {
   "cell_type": "markdown",
   "metadata": {},
   "source": [
    "#### James Stein Encoder"
   ]
  },
  {
   "cell_type": "code",
   "execution_count": 22,
   "metadata": {},
   "outputs": [],
   "source": [
    "jsEncs = {}\n",
    "trainJs = data.copy()\n",
    "\n",
    "for outCol in outColNames:\n",
    "    jsEnc = ce.james_stein.JamesSteinEncoder(cols=catCols)\n",
    "    jsEnc.fit(trainJs[catCols], trainJs[outCol])\n",
    "    trainJs[[col + ':' + outCol for col in catCols]] = jsEnc.transform(trainJs[catCols])\n",
    "    jsEncs[outCol] = jsEnc\n",
    "    \n",
    "trainJs.drop(catCols, axis=1, inplace=True)\n",
    "pickle.dump(trainJs, open('Data\\\\trainJs.sav', 'wb'))"
   ]
  },
  {
   "cell_type": "markdown",
   "metadata": {},
   "source": [
    "#### M-Estimate Encoder"
   ]
  },
  {
   "cell_type": "code",
   "execution_count": 23,
   "metadata": {},
   "outputs": [],
   "source": [
    "meEncs = {}\n",
    "trainMe = data.copy()\n",
    "\n",
    "for outCol in outColNames:\n",
    "    meEnc = ce.m_estimate.MEstimateEncoder(cols=catCols)\n",
    "    meEnc.fit(trainMe[catCols], trainMe[outCol])\n",
    "    trainMe[[col + ':' + outCol for col in catCols]] = meEnc.transform(trainMe[catCols])\n",
    "    meEncs[outCol] = meEnc\n",
    "    \n",
    "trainMe.drop(catCols, axis=1, inplace=True)\n",
    "pickle.dump(trainMe, open('Data\\\\trainMe.sav', 'wb'))"
   ]
  }
 ],
 "metadata": {
  "kernelspec": {
   "display_name": "Python 3",
   "language": "python",
   "name": "python3"
  },
  "language_info": {
   "codemirror_mode": {
    "name": "ipython",
    "version": 3
   },
   "file_extension": ".py",
   "mimetype": "text/x-python",
   "name": "python",
   "nbconvert_exporter": "python",
   "pygments_lexer": "ipython3",
   "version": "3.6.10"
  }
 },
 "nbformat": 4,
 "nbformat_minor": 4
}
